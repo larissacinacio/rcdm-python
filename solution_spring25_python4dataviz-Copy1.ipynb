{
 "cells": [
  {
   "cell_type": "markdown",
   "id": "d58aea0b-16f3-4bfd-8cb3-097c34dbeded",
   "metadata": {},
   "source": [
    "**Python for Data Visualization**\n",
    "\n",
    "Presenter: Larissa do Carmo-Inácio (RCDM)"
   ]
  },
  {
   "cell_type": "code",
   "execution_count": null,
   "id": "13cff38b-45fa-482f-8104-c42bae87cf74",
   "metadata": {},
   "outputs": [],
   "source": [
    "# Import libraries: Let's set up our toolbox\n",
    "\n",
    "import pandas as pd\n",
    "import matplotlib.pyplot as plt\n",
    "import seaborn as sns\n"
   ]
  },
  {
   "cell_type": "code",
   "execution_count": null,
   "id": "8144f9c2-da55-4c9c-912f-48c1cfa5ac1d",
   "metadata": {},
   "outputs": [],
   "source": [
    "# How do we load our data? Remember to call the functions before giving the command\n",
    "\n",
    "puppy_df = pd.read_csv('puppy_data_master.csv') # I am using a relative path, because the file I want Python to read is in the same directory of my script\n",
    "puppy_df.head()"
   ]
  },
  {
   "cell_type": "code",
   "execution_count": null,
   "id": "b4bab21e-28ba-4532-bfbd-b261413facd2",
   "metadata": {},
   "outputs": [],
   "source": [
    "# If I want more information about the continous variables of my dataset, I use the function .describe()\n",
    "\n",
    "puppy_df.describe()"
   ]
  },
  {
   "cell_type": "code",
   "execution_count": null,
   "id": "54fbd5d6-c909-4059-a67c-2f02956e6f70",
   "metadata": {},
   "outputs": [],
   "source": [
    "# Histogram: An excellent start point\n",
    "\n",
    "histogram = plt.hist(puppy_df['age_intake'])"
   ]
  },
  {
   "cell_type": "code",
   "execution_count": null,
   "id": "2745fd51-f496-4281-87b1-daccdf5aefdb",
   "metadata": {},
   "outputs": [],
   "source": [
    "# Scatter plot\n",
    "scatter = plt.scatter (x = puppy_df['age_intake'], y = puppy_df['age_outcome']) #Since my data is "
   ]
  },
  {
   "cell_type": "code",
   "execution_count": null,
   "id": "b1c19fb6-7fdf-4866-8711-730ac6e68b0f",
   "metadata": {},
   "outputs": [],
   "source": [
    "# Box Plot\n",
    "\n",
    "box = puppy_df.boxplot(by = 'specie', column = \"age_intake\") #Did you notice any difference in the syntax here?"
   ]
  },
  {
   "cell_type": "markdown",
   "id": "3a5dd190-c5a2-4019-908a-9e5b51454717",
   "metadata": {},
   "source": [
    "Now, it is time to personalize our graphs!"
   ]
  },
  {
   "cell_type": "code",
   "execution_count": null,
   "id": "b62431b6-0f1c-43ec-9c57-fd68ee3a3eb3",
   "metadata": {},
   "outputs": [],
   "source": [
    "# Change the figure size\n",
    "\n",
    "box = puppy_df.boxplot(by = 'specie', column = [\"age_intake\"], figsize = (20,10))"
   ]
  },
  {
   "cell_type": "code",
   "execution_count": null,
   "id": "ca7e39a2-c2cf-458f-bf02-bd1dd18c611f",
   "metadata": {},
   "outputs": [],
   "source": [
    "# Change the titles and the axis labels, and rotate the x axis labels\n",
    "\n",
    "box = puppy_df.boxplot(by = 'specie', column = [\"age_intake\"], figsize = (20,10))\n",
    "plt.xlabel('Species')\n",
    "plt.ylabel('Frequency')\n",
    "plt.xticks(rotation=45)\n",
    "plt.title('Box Plot of Animals\\' Ages (Intakes) grouped by Species')"
   ]
  },
  {
   "cell_type": "code",
   "execution_count": null,
   "id": "aa601e92-e8f9-4586-9499-2533bbe3f8d3",
   "metadata": {},
   "outputs": [],
   "source": [
    "# Change the bins width\n",
    "\n",
    "histogram = plt.hist(puppy_df['age_intake'], bins = 5)#The smaller the number, the wider the columns.\n",
    "plt.xlabel('Age')\n",
    "plt.ylabel('Frequency')\n",
    "plt.title('Animals\\' Ages (Intakes)')"
   ]
  },
  {
   "cell_type": "code",
   "execution_count": null,
   "id": "c94d4ca7-92e6-4e2f-8128-209b8a8d15b1",
   "metadata": {},
   "outputs": [],
   "source": [
    "# Change the colors - my favorite part!\n",
    "\n",
    "histogram = plt.hist(puppy_df['age_intake'], bins = 5, color = 'purple') # You can use the names of the colors\n",
    "plt.xlabel('Age')\n",
    "plt.ylabel('Frequency')\n",
    "plt.title('Animals\\' Ages (Intakes)')\n",
    "# Be simple. Don't expect Python to recognize 'Avocado Green no. 3'"
   ]
  },
  {
   "cell_type": "code",
   "execution_count": null,
   "id": "10e06731-8009-46af-9421-c73b742a86bc",
   "metadata": {},
   "outputs": [],
   "source": [
    "# Change the colors - my favorite part!\n",
    "\n",
    "histogram = plt.hist(puppy_df['age_intake'], bins = 5, color = '#884EA0') # You can also use the hexadecimal code of the colors\n",
    "plt.xlabel('Age')\n",
    "plt.ylabel('Frequency')\n",
    "plt.title('Animals\\' Ages (Intakes)')\n",
    "# Don't forget to use the strings"
   ]
  },
  {
   "cell_type": "code",
   "execution_count": null,
   "id": "f4c3fa03-9b3a-41b8-a070-50731b3c00d6",
   "metadata": {},
   "outputs": [],
   "source": [
    "# Using Seaborn to change the aesthetic \n",
    "\n",
    "plt.figure(figsize=(20,10)) # First, create a new figure, then set the size BEFORE plotting with seaborn\n",
    "box = sns.boxplot(hue = 'specie', y = 'age_intake', data = puppy_df, palette='deep') # Seaborn often uses a single color or a palette based on the theme. But if you want to use a specific set of colors for different categories, you can use the palette argument and apply a predefined palettes, like 'deep,' 'pastel,' or 'flare'\n",
    "plt.xlabel('Species')\n",
    "plt.ylabel('Age')\n",
    "plt.title('Animals\\' ages by species')\n",
    "plt.savefig('boxplot.png')  # Save as PNG with higher resolution\n"
   ]
  },
  {
   "cell_type": "code",
   "execution_count": null,
   "id": "dda1f74e-9382-4100-971b-a329434fff6d",
   "metadata": {},
   "outputs": [],
   "source": [
    "# How to save your plots as images or file\n",
    "\n",
    "plt.figure(figsize=(20,10)) \n",
    "box = sns.boxplot(hue = 'specie', y = 'age_intake', data = puppy_df, palette='deep')\n",
    "plt.ylabel('Age')\n",
    "plt.title('Animals\\' ages by species')\n",
    "plt.savefig('boxplot.png')  # Save as PNG for a better resolution\n"
   ]
  },
  {
   "cell_type": "markdown",
   "id": "243b2603-6da3-4fe1-b3db-a4aec007998c",
   "metadata": {},
   "source": [
    "*Now, would you like to try by youyselves?*"
   ]
  },
  {
   "cell_type": "markdown",
   "id": "d153e6fe-9ed5-4ad3-bc35-a7b3b42e04bd",
   "metadata": {},
   "source": [
    "**Exercise: Create a Bar Chart to Visualize Daily Temperatures**\n",
    "\n",
    "\n",
    "*Goal:* You will create a bar chart to visualize the daily temperatures for a week. By the end of this exercise, you'll understand how to use matplotlib to plot data in a simple and clear bar chart format, and how to customize the chart with titles and labels.\n",
    "\n",
    "Steps:\n",
    "\n",
    "1. Import the necessary libraries.\n",
    "2. Prepare the data.\n",
    "3. Create the bar chart.\n",
    "4. Add titles and labels.\n",
    "5. Display the chart."
   ]
  },
  {
   "cell_type": "code",
   "execution_count": null,
   "id": "0d2af536-cbab-4bdd-90e7-e5867009ce53",
   "metadata": {},
   "outputs": [],
   "source": [
    "#1 Import the libraries\n",
    "import matplotlib.pyplot as plt\n",
    "\n",
    "#2 Prepare the data\n",
    "days = ['Monday', 'Tuesday', 'Wednesday', 'Thursday', 'Friday', 'Saturday', 'Sunday']\n",
    "temperatures = [17, 23, 24, 17, 16, 20, 16]\n",
    "\n",
    "#3 Create the bar chart\n",
    "plt.figure(figsize=(10, 5))\n",
    "plt.bar(days, temperatures, color='skyblue')\n",
    "\n",
    "#4 Add titles and labels\n",
    "plt.title('Daily Temperatures')\n",
    "plt.xlabel('Day')\n",
    "plt.ylabel('Temperature (°C)')\n",
    "\n",
    "#5 Display the chart\n",
    "plt.show()\n"
   ]
  },
  {
   "cell_type": "code",
   "execution_count": null,
   "id": "038a0af0-7453-482c-87f2-d5c436894845",
   "metadata": {},
   "outputs": [],
   "source": []
  }
 ],
 "metadata": {
  "kernelspec": {
   "display_name": "Python 3 (ipykernel)",
   "language": "python",
   "name": "python3"
  },
  "language_info": {
   "codemirror_mode": {
    "name": "ipython",
    "version": 3
   },
   "file_extension": ".py",
   "mimetype": "text/x-python",
   "name": "python",
   "nbconvert_exporter": "python",
   "pygments_lexer": "ipython3",
   "version": "3.12.4"
  }
 },
 "nbformat": 4,
 "nbformat_minor": 5
}
